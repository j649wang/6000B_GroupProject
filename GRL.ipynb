{
 "cells": [
  {
   "cell_type": "code",
   "execution_count": 1,
   "metadata": {
    "collapsed": true
   },
   "outputs": [],
   "source": [
    "from skimage import io,transform\n",
    "import glob\n",
    "import os\n",
    "import tensorflow as tf\n",
    "import numpy as np\n",
    "import time\n",
    "# path='flower_photos'\n",
    "#the min image size\n",
    "w=64\n",
    "h=64"
   ]
  },
  {
   "cell_type": "markdown",
   "metadata": {},
   "source": [
    "# read the data A after propressed"
   ]
  },
  {
   "cell_type": "code",
   "execution_count": 2,
   "metadata": {},
   "outputs": [
    {
     "name": "stderr",
     "output_type": "stream",
     "text": [
      "D:\\ProgramData\\Anaconda3\\lib\\site-packages\\skimage\\transform\\_warps.py:84: UserWarning: The default mode, 'constant', will be changed to 'reflect' in skimage 0.15.\n",
      "  warn(\"The default mode, 'constant', will be changed to 'reflect' in \"\n"
     ]
    }
   ],
   "source": [
    "from skimage import io,transform\n",
    "path='./dataresize128A'\n",
    "files=os.listdir(path)\n",
    "f_train=open('./train.txt')\n",
    "content=f_train.readlines()\n",
    "x_train1=[]\n",
    "y_train1=[]\n",
    "y_train2=[]\n",
    "x_train2=[]\n",
    "for i in content:\n",
    "    [train_path,label]=i.split()\n",
    "    im=io.imread(path+'/'+train_path+'.png')\n",
    "    im=transform.resize(im,[64,64,1])\n",
    "    x_train1.append(im)\n",
    "    x_train2.append(im)\n",
    "    y_train1.append(0)\n",
    "    y_train2.append(label)"
   ]
  },
  {
   "cell_type": "code",
   "execution_count": 3,
   "metadata": {},
   "outputs": [
    {
     "name": "stdout",
     "output_type": "stream",
     "text": [
      "(410, 64, 64, 1)\n",
      "(410,)\n",
      "(410,)\n"
     ]
    }
   ],
   "source": [
    "print(np.shape(x_train2))\n",
    "print(np.shape(y_train1))\n",
    "print(np.shape(y_train2))"
   ]
  },
  {
   "cell_type": "markdown",
   "metadata": {},
   "source": [
    "# read the data B after propressed"
   ]
  },
  {
   "cell_type": "code",
   "execution_count": 4,
   "metadata": {},
   "outputs": [
    {
     "name": "stderr",
     "output_type": "stream",
     "text": [
      "D:\\ProgramData\\Anaconda3\\lib\\site-packages\\skimage\\transform\\_warps.py:84: UserWarning: The default mode, 'constant', will be changed to 'reflect' in skimage 0.15.\n",
      "  warn(\"The default mode, 'constant', will be changed to 'reflect' in \"\n"
     ]
    }
   ],
   "source": [
    "path='./dataresize64B'\n",
    "files=os.listdir(path)\n",
    "f_train=open('./label_B.txt')\n",
    "content=f_train.readlines()\n",
    "x_test=[]\n",
    "y_test=[]\n",
    "for i in content:\n",
    "    [train_path,label]=i.split()\n",
    "    im=io.imread(path+'/'+train_path+'.png')\n",
    "    im=transform.resize(im,[64,64,1])\n",
    "    x_train1.append(im)\n",
    "    x_test.append(im)\n",
    "    y_test.append(label)\n",
    "    y_train1.append(1)"
   ]
  },
  {
   "cell_type": "code",
   "execution_count": 5,
   "metadata": {},
   "outputs": [
    {
     "name": "stdout",
     "output_type": "stream",
     "text": [
      "(322, 64, 64, 1)\n",
      "(322,)\n",
      "(732, 64, 64, 1)\n",
      "(732,)\n",
      "(410, 64, 64, 1)\n",
      "(410,)\n"
     ]
    }
   ],
   "source": [
    "print(np.shape(x_test))\n",
    "print(np.shape(y_test))\n",
    "print(np.shape(x_train1))\n",
    "print(np.shape(y_train1))\n",
    "print(np.shape(x_train2))\n",
    "print(np.shape(y_train2))"
   ]
  },
  {
   "cell_type": "code",
   "execution_count": 6,
   "metadata": {},
   "outputs": [
    {
     "name": "stderr",
     "output_type": "stream",
     "text": [
      "Using TensorFlow backend.\n"
     ]
    }
   ],
   "source": [
    "import numpy as np\n",
    "from keras.models import Sequential, Model\n",
    "from keras.layers import Dense,Dropout,Activation,Flatten\n",
    "from keras.layers import Conv2D,MaxPooling2D,GlobalAveragePooling2D\n",
    "import keras\n",
    "from numpy import array"
   ]
  },
  {
   "cell_type": "code",
   "execution_count": 7,
   "metadata": {
    "collapsed": true
   },
   "outputs": [],
   "source": [
    "x_train1=array(x_train1)\n",
    "x_train1=x_train1.astype('float32')\n",
    "x_test=array(x_test)\n",
    "x_test=x_test.astype('float32')\n",
    "x_train2=array(x_train2)\n",
    "x_train2=x_train2.astype('float32')"
   ]
  },
  {
   "cell_type": "code",
   "execution_count": 8,
   "metadata": {
    "collapsed": true
   },
   "outputs": [],
   "source": [
    "y_train1=keras.utils.to_categorical(y_train1,2)\n",
    "y_train2=keras.utils.to_categorical(y_train2,2)\n",
    "y_test=keras.utils.to_categorical(y_test,2)"
   ]
  },
  {
   "cell_type": "code",
   "execution_count": 9,
   "metadata": {
    "collapsed": true
   },
   "outputs": [],
   "source": [
    "input_shape=[64,64,1]"
   ]
  },
  {
   "cell_type": "markdown",
   "metadata": {},
   "source": [
    "# model\n"
   ]
  },
  {
   "cell_type": "code",
   "execution_count": 92,
   "metadata": {
    "collapsed": true
   },
   "outputs": [],
   "source": [
    "# model=Sequential()\n",
    "# # model.add(GlobalAveragePooling2D(input_shape=input_shape))\n",
    "# model.add(Conv2D(32, 3, padding='same',input_shape=input_shape))\n",
    "# model.add(Activation('relu'))\n",
    "\n",
    "# model.add(MaxPooling2D(pool_size=3))"
   ]
  },
  {
   "cell_type": "code",
   "execution_count": 93,
   "metadata": {
    "collapsed": true
   },
   "outputs": [],
   "source": [
    "# model.add(Conv2D(64, 3, padding='same',strides=2))\n",
    "# model.add(Activation('relu'))\n",
    "# model.add(Conv2D(64, 3, padding='same'))\n",
    "# model.add(Activation('relu'))\n",
    "# model.add(Conv2D(64, 3, padding='same'))\n",
    "# model.add(Activation('relu'))\n",
    "# model.add(MaxPooling2D(pool_size=2))"
   ]
  },
  {
   "cell_type": "code",
   "execution_count": 94,
   "metadata": {
    "collapsed": true
   },
   "outputs": [],
   "source": [
    "# model.add(Conv2D(128, 3, padding='same'))\n",
    "# model.add(Activation('relu'))\n",
    "# model.add(Conv2D(128, 3, padding='same'))\n",
    "# model.add(Activation('relu'))\n",
    "# model.add(Conv2D(128, 3, padding='same'))\n",
    "# model.add(Activation('relu'))\n",
    "# model.add(MaxPooling2D(pool_size=2))"
   ]
  },
  {
   "cell_type": "code",
   "execution_count": 95,
   "metadata": {
    "collapsed": true
   },
   "outputs": [],
   "source": [
    "# model.add(Conv2D(128, 3, padding='same'))\n",
    "# model.add(Activation('relu'))\n",
    "# model.add(Conv2D(128, 3, padding='same'))\n",
    "# model.add(Activation('relu'))\n",
    "# model.add(Conv2D(128, 3, padding='same',strides=2))\n",
    "# model.add(Activation('relu'))\n",
    "# model.add(MaxPooling2D(pool_size=2))\n"
   ]
  },
  {
   "cell_type": "code",
   "execution_count": 96,
   "metadata": {
    "collapsed": true
   },
   "outputs": [],
   "source": [
    "# model.add(Conv2D(256, 3, padding='same'))\n",
    "# model.add(Activation('relu'))\n",
    "# model.add(Conv2D(256, 3, padding='same'))\n",
    "# model.add(Activation('relu'))\n",
    "# model.add(Conv2D(256, 3, padding='same'))\n",
    "# model.add(Activation('relu'))\n",
    "# model.add(GlobalAveragePooling2D())"
   ]
  },
  {
   "cell_type": "markdown",
   "metadata": {},
   "source": [
    "# use the first 14 layers of vgg16 to pretrain image features"
   ]
  },
  {
   "cell_type": "code",
   "execution_count": 10,
   "metadata": {},
   "outputs": [],
   "source": [
    "from keras.applications.vgg16 import VGG16\n",
    "from keras.preprocessing import image\n",
    "from keras.applications.vgg16 import preprocess_input\n",
    "model= VGG16(weights='imagenet', include_top=False)\n",
    "# test=model.predict(x_train3)\n",
    "test=model.get_layer('block5_conv2').output"
   ]
  },
  {
   "cell_type": "code",
   "execution_count": 11,
   "metadata": {},
   "outputs": [],
   "source": [
    "# model.summary()\n",
    "model_vgg14=Model(inputs=model.input,outputs=test)"
   ]
  },
  {
   "cell_type": "code",
   "execution_count": 12,
   "metadata": {
    "collapsed": true
   },
   "outputs": [],
   "source": [
    "model_vgg14.compile(loss='binary_crossentropy',\n",
    "              optimizer='sgd',\n",
    "              metrics=['accuracy'])"
   ]
  },
  {
   "cell_type": "code",
   "execution_count": 13,
   "metadata": {},
   "outputs": [
    {
     "data": {
      "text/plain": [
       "(410, 64, 64, 1)"
      ]
     },
     "execution_count": 13,
     "metadata": {},
     "output_type": "execute_result"
    }
   ],
   "source": [
    "np.shape(x_train2)"
   ]
  },
  {
   "cell_type": "code",
   "execution_count": 50,
   "metadata": {},
   "outputs": [],
   "source": [
    "x_train3=np.concatenate([x_train2,x_train2,x_train2],3)\n",
    "test_train1=model_vgg14.predict(x_train3)\n",
    "x_train5=np.concatenate([x_train1,x_train1,x_train1],3)\n",
    "test_train2=model_vgg14.predict(x_train5)"
   ]
  },
  {
   "cell_type": "code",
   "execution_count": 15,
   "metadata": {
    "collapsed": true
   },
   "outputs": [],
   "source": [
    "x_train4=np.concatenate([x_test,x_test,x_test],3)\n",
    "test_test=model_vgg14.predict(x_train4)"
   ]
  },
  {
   "cell_type": "code",
   "execution_count": 16,
   "metadata": {},
   "outputs": [
    {
     "name": "stdout",
     "output_type": "stream",
     "text": [
      "(410, 4, 4, 512)\n"
     ]
    }
   ],
   "source": [
    "print(np.shape(test))"
   ]
  },
  {
   "cell_type": "markdown",
   "metadata": {},
   "source": [
    "# add two layers to fine tune on our own dataset"
   ]
  },
  {
   "cell_type": "code",
   "execution_count": 17,
   "metadata": {},
   "outputs": [],
   "source": [
    "model_fe=Sequential()\n",
    "input_shape=[4,4,512]\n",
    "\n",
    "model_fe.add(Conv2D(512, 2, padding='same',input_shape=input_shape))\n",
    "model_fe.add(Activation('relu'))\n",
    "\n",
    "model_fe.add(MaxPooling2D(pool_size=2))\n",
    "\n",
    "model_fe.add(Conv2D(512, 2, padding='same',input_shape=input_shape))\n",
    "model_fe.add(Activation('relu'))\n",
    "\n",
    "model_fe.add(MaxPooling2D(pool_size=2))\n",
    "\n",
    "# model_22.add(Flatten())\n",
    "# model_22.add(Dense(512,input_shape=input_shape)) \n",
    "# model_22.add(Activation('relu')) \n",
    "\n",
    "# model_22.add(Dense(2))  \n",
    "# model_22.add(Activation('softmax'))"
   ]
  },
  {
   "cell_type": "code",
   "execution_count": 18,
   "metadata": {
    "collapsed": true
   },
   "outputs": [],
   "source": [
    "model_fe.compile(loss='binary_crossentropy',\n",
    "              optimizer='sgd',\n",
    "              metrics=['binary_accuracy'])"
   ]
  },
  {
   "cell_type": "code",
   "execution_count": null,
   "metadata": {
    "collapsed": true
   },
   "outputs": [],
   "source": []
  },
  {
   "cell_type": "code",
   "execution_count": 81,
   "metadata": {},
   "outputs": [],
   "source": [
    "# pre=model_22.fit(test,y_train2,epochs=200,shuffle=True)"
   ]
  },
  {
   "cell_type": "markdown",
   "metadata": {},
   "source": [
    "# build domain model and predict model"
   ]
  },
  {
   "cell_type": "code",
   "execution_count": 33,
   "metadata": {},
   "outputs": [],
   "source": [
    "test1=model_fe.output\n",
    "test1=Flatten()(test1)\n",
    "test1=Dense(512,activation='relu')(test1)\n",
    "test1=Dense(2,activation='softmax')(test1)\n",
    "model_domain=Model(inputs=model_fe.input,outputs=test1)"
   ]
  },
  {
   "cell_type": "code",
   "execution_count": null,
   "metadata": {
    "collapsed": true
   },
   "outputs": [],
   "source": []
  },
  {
   "cell_type": "code",
   "execution_count": 21,
   "metadata": {},
   "outputs": [],
   "source": [
    "test2=model_fe.output\n",
    "test2=Flatten()(test2)\n",
    "test2=Dense(512,activation='relu')(test2)\n",
    "test2=Dense(2,activation='softmax')(test2)\n",
    "model_B=Model(inputs=model_fe.input,outputs=test2)"
   ]
  },
  {
   "cell_type": "code",
   "execution_count": 44,
   "metadata": {},
   "outputs": [
    {
     "ename": "AttributeError",
     "evalue": "'SGD' object has no attribute 'graident'",
     "output_type": "error",
     "traceback": [
      "\u001b[1;31m---------------------------------------------------------------------------\u001b[0m",
      "\u001b[1;31mAttributeError\u001b[0m                            Traceback (most recent call last)",
      "\u001b[1;32m<ipython-input-44-a9512c4c56d4>\u001b[0m in \u001b[0;36m<module>\u001b[1;34m()\u001b[0m\n\u001b[0;32m      1\u001b[0m \u001b[1;32mfrom\u001b[0m \u001b[0mkeras\u001b[0m \u001b[1;32mimport\u001b[0m \u001b[0moptimizers\u001b[0m\u001b[1;33m\u001b[0m\u001b[0m\n\u001b[1;32m----> 2\u001b[1;33m \u001b[0msgd\u001b[0m \u001b[1;33m=\u001b[0m\u001b[1;33m-\u001b[0m\u001b[0moptimizers\u001b[0m\u001b[1;33m.\u001b[0m\u001b[0mSGD\u001b[0m\u001b[1;33m(\u001b[0m\u001b[0mlr\u001b[0m\u001b[1;33m=\u001b[0m\u001b[1;36m0.01\u001b[0m\u001b[1;33m,\u001b[0m \u001b[0mdecay\u001b[0m\u001b[1;33m=\u001b[0m\u001b[1;33m-\u001b[0m\u001b[1;36m1e-6\u001b[0m\u001b[1;33m,\u001b[0m \u001b[0mmomentum\u001b[0m\u001b[1;33m=\u001b[0m\u001b[1;36m0.9\u001b[0m\u001b[1;33m,\u001b[0m \u001b[0mnesterov\u001b[0m\u001b[1;33m=\u001b[0m\u001b[1;32mTrue\u001b[0m\u001b[1;33m)\u001b[0m\u001b[1;33m.\u001b[0m\u001b[0mgraident\u001b[0m\u001b[1;33m\u001b[0m\u001b[0m\n\u001b[0m",
      "\u001b[1;31mAttributeError\u001b[0m: 'SGD' object has no attribute 'graident'"
     ]
    }
   ],
   "source": [
    "from keras import optimizers\n",
    "sgd =-optimizers.SGD(lr=0.01, decay=-1e-6, momentum=0.9, nesterov=True)"
   ]
  },
  {
   "cell_type": "code",
   "execution_count": 46,
   "metadata": {},
   "outputs": [],
   "source": [
    "model_domain.compile(loss='binary_crossentropy',\n",
    "              optimizer='sgd',\n",
    "              metrics=['accuracy'])"
   ]
  },
  {
   "cell_type": "code",
   "execution_count": 92,
   "metadata": {
    "collapsed": true
   },
   "outputs": [],
   "source": [
    "model_B.compile(loss='binary_crossentropy',\n",
    "              optimizer='sgd',\n",
    "              metrics=['binary_accuracy'])"
   ]
  },
  {
   "cell_type": "code",
   "execution_count": 97,
   "metadata": {},
   "outputs": [],
   "source": [
    "model_domain.fit(test_train2,y_train1,epochs=100,shuffle=True)"
   ]
  },
  {
   "cell_type": "markdown",
   "metadata": {},
   "source": [
    "# train the predict model on data A"
   ]
  },
  {
   "cell_type": "code",
   "execution_count": 98,
   "metadata": {},
   "outputs": [
    {
     "name": "stdout",
     "output_type": "stream",
     "text": [
      "Epoch 1/100\n",
      "410/410 [==============================] - 3s 7ms/step - loss: 0.5900 - binary_accuracy: 0.7805\n",
      "Epoch 2/100\n",
      "410/410 [==============================] - 3s 7ms/step - loss: 0.3489 - binary_accuracy: 0.8488\n",
      "Epoch 3/100\n",
      "410/410 [==============================] - 3s 7ms/step - loss: 0.3236 - binary_accuracy: 0.8707\n",
      "Epoch 4/100\n",
      "410/410 [==============================] - 3s 7ms/step - loss: 0.2483 - binary_accuracy: 0.8780\n",
      "Epoch 5/100\n",
      "410/410 [==============================] - 3s 7ms/step - loss: 0.3549 - binary_accuracy: 0.8537\n",
      "Epoch 6/100\n",
      "410/410 [==============================] - 3s 8ms/step - loss: 0.2881 - binary_accuracy: 0.9000\n",
      "Epoch 7/100\n",
      "410/410 [==============================] - 3s 7ms/step - loss: 0.2691 - binary_accuracy: 0.8805\n",
      "Epoch 8/100\n",
      "410/410 [==============================] - 3s 6ms/step - loss: 0.5153 - binary_accuracy: 0.8024\n",
      "Epoch 9/100\n",
      "410/410 [==============================] - 3s 6ms/step - loss: 0.4064 - binary_accuracy: 0.8439\n",
      "Epoch 10/100\n",
      "410/410 [==============================] - 3s 7ms/step - loss: 0.4181 - binary_accuracy: 0.8220\n",
      "Epoch 11/100\n",
      "410/410 [==============================] - 3s 7ms/step - loss: 0.3019 - binary_accuracy: 0.8878\n",
      "Epoch 12/100\n",
      "410/410 [==============================] - 3s 8ms/step - loss: 0.3936 - binary_accuracy: 0.8317\n",
      "Epoch 13/100\n",
      "410/410 [==============================] - 3s 7ms/step - loss: 0.3161 - binary_accuracy: 0.8610\n",
      "Epoch 14/100\n",
      "410/410 [==============================] - 3s 6ms/step - loss: 0.3727 - binary_accuracy: 0.8317\n",
      "Epoch 15/100\n",
      "410/410 [==============================] - 3s 6ms/step - loss: 0.2508 - binary_accuracy: 0.9098\n",
      "Epoch 16/100\n",
      "410/410 [==============================] - 3s 7ms/step - loss: 0.3797 - binary_accuracy: 0.8366\n",
      "Epoch 17/100\n",
      "410/410 [==============================] - 2s 6ms/step - loss: 0.3425 - binary_accuracy: 0.8585\n",
      "Epoch 18/100\n",
      "410/410 [==============================] - 3s 7ms/step - loss: 0.3458 - binary_accuracy: 0.8537\n",
      "Epoch 19/100\n",
      "410/410 [==============================] - 3s 6ms/step - loss: 0.5685 - binary_accuracy: 0.7585\n",
      "Epoch 20/100\n",
      "410/410 [==============================] - 3s 8ms/step - loss: 0.3614 - binary_accuracy: 0.8390\n",
      "Epoch 21/100\n",
      "410/410 [==============================] - 3s 7ms/step - loss: 0.3382 - binary_accuracy: 0.8732\n",
      "Epoch 22/100\n",
      "410/410 [==============================] - 3s 6ms/step - loss: 0.3124 - binary_accuracy: 0.8537\n",
      "Epoch 23/100\n",
      "410/410 [==============================] - 3s 7ms/step - loss: 0.6233 - binary_accuracy: 0.7585\n",
      "Epoch 24/100\n",
      "410/410 [==============================] - 3s 6ms/step - loss: 0.4903 - binary_accuracy: 0.7707\n",
      "Epoch 25/100\n",
      "410/410 [==============================] - 3s 6ms/step - loss: 0.3913 - binary_accuracy: 0.8220\n",
      "Epoch 26/100\n",
      "410/410 [==============================] - 2s 6ms/step - loss: 0.3363 - binary_accuracy: 0.8610\n",
      "Epoch 27/100\n",
      "410/410 [==============================] - 3s 6ms/step - loss: 0.3837 - binary_accuracy: 0.8244\n",
      "Epoch 28/100\n",
      "410/410 [==============================] - 2s 6ms/step - loss: 0.2934 - binary_accuracy: 0.8683\n",
      "Epoch 29/100\n",
      "410/410 [==============================] - 2s 6ms/step - loss: 0.3027 - binary_accuracy: 0.8634\n",
      "Epoch 30/100\n",
      "410/410 [==============================] - 3s 6ms/step - loss: 0.3111 - binary_accuracy: 0.8854\n",
      "Epoch 31/100\n",
      "410/410 [==============================] - 3s 6ms/step - loss: 0.2975 - binary_accuracy: 0.8976A: 1s - loss: 0.4023 - binary_accura\n",
      "Epoch 32/100\n",
      "410/410 [==============================] - 3s 6ms/step - loss: 0.3167 - binary_accuracy: 0.8610\n",
      "Epoch 33/100\n",
      "410/410 [==============================] - 3s 6ms/step - loss: 0.2871 - binary_accuracy: 0.8829\n",
      "Epoch 34/100\n",
      "410/410 [==============================] - 3s 7ms/step - loss: 0.3084 - binary_accuracy: 0.8732\n",
      "Epoch 35/100\n",
      "410/410 [==============================] - 3s 7ms/step - loss: 0.3271 - binary_accuracy: 0.8683\n",
      "Epoch 36/100\n",
      "410/410 [==============================] - 3s 6ms/step - loss: 0.3122 - binary_accuracy: 0.8659\n",
      "Epoch 37/100\n",
      "410/410 [==============================] - 3s 8ms/step - loss: 0.3060 - binary_accuracy: 0.9000\n",
      "Epoch 38/100\n",
      "410/410 [==============================] - 3s 7ms/step - loss: 0.2847 - binary_accuracy: 0.8902\n",
      "Epoch 39/100\n",
      "410/410 [==============================] - 3s 6ms/step - loss: 0.5171 - binary_accuracy: 0.7902\n",
      "Epoch 40/100\n",
      "410/410 [==============================] - 3s 7ms/step - loss: 0.7079 - binary_accuracy: 0.7146\n",
      "Epoch 41/100\n",
      "410/410 [==============================] - 3s 7ms/step - loss: 0.4373 - binary_accuracy: 0.8024\n",
      "Epoch 42/100\n",
      "410/410 [==============================] - 3s 7ms/step - loss: 0.3975 - binary_accuracy: 0.8317\n",
      "Epoch 43/100\n",
      "410/410 [==============================] - 3s 6ms/step - loss: 0.3326 - binary_accuracy: 0.8732\n",
      "Epoch 44/100\n",
      "410/410 [==============================] - 3s 7ms/step - loss: 0.3394 - binary_accuracy: 0.8390\n",
      "Epoch 45/100\n",
      "410/410 [==============================] - 3s 6ms/step - loss: 0.3196 - binary_accuracy: 0.8561\n",
      "Epoch 46/100\n",
      "410/410 [==============================] - 3s 6ms/step - loss: 0.4033 - binary_accuracy: 0.8220\n",
      "Epoch 47/100\n",
      "410/410 [==============================] - 3s 6ms/step - loss: 0.3451 - binary_accuracy: 0.8317\n",
      "Epoch 48/100\n",
      "410/410 [==============================] - 3s 7ms/step - loss: 0.3651 - binary_accuracy: 0.8707\n",
      "Epoch 49/100\n",
      "410/410 [==============================] - 3s 7ms/step - loss: 0.2895 - binary_accuracy: 0.8902\n",
      "Epoch 50/100\n",
      "410/410 [==============================] - 3s 6ms/step - loss: 0.3259 - binary_accuracy: 0.8585\n",
      "Epoch 51/100\n",
      "410/410 [==============================] - 3s 7ms/step - loss: 0.3969 - binary_accuracy: 0.8366\n",
      "Epoch 52/100\n",
      "410/410 [==============================] - 3s 7ms/step - loss: 0.3220 - binary_accuracy: 0.8732\n",
      "Epoch 53/100\n",
      "410/410 [==============================] - 3s 7ms/step - loss: 0.3877 - binary_accuracy: 0.7951\n",
      "Epoch 54/100\n",
      "410/410 [==============================] - 3s 7ms/step - loss: 0.3088 - binary_accuracy: 0.8707\n",
      "Epoch 55/100\n",
      "410/410 [==============================] - 3s 7ms/step - loss: 0.3134 - binary_accuracy: 0.8732\n",
      "Epoch 56/100\n",
      "410/410 [==============================] - 2s 6ms/step - loss: 0.3254 - binary_accuracy: 0.8659\n",
      "Epoch 57/100\n",
      "410/410 [==============================] - 2s 6ms/step - loss: 0.2670 - binary_accuracy: 0.8902\n",
      "Epoch 58/100\n",
      "410/410 [==============================] - 2s 6ms/step - loss: 0.3053 - binary_accuracy: 0.8756\n",
      "Epoch 59/100\n",
      "410/410 [==============================] - 3s 7ms/step - loss: 0.4027 - binary_accuracy: 0.8341\n",
      "Epoch 60/100\n",
      "410/410 [==============================] - 3s 6ms/step - loss: 0.3964 - binary_accuracy: 0.8537\n",
      "Epoch 61/100\n",
      "410/410 [==============================] - 3s 7ms/step - loss: 0.3473 - binary_accuracy: 0.8390\n",
      "Epoch 62/100\n",
      "410/410 [==============================] - 3s 7ms/step - loss: 0.3398 - binary_accuracy: 0.8463\n",
      "Epoch 63/100\n",
      "410/410 [==============================] - 3s 6ms/step - loss: 0.4489 - binary_accuracy: 0.8195\n",
      "Epoch 64/100\n",
      "410/410 [==============================] - 3s 6ms/step - loss: 0.3345 - binary_accuracy: 0.8610\n",
      "Epoch 65/100\n",
      "410/410 [==============================] - 3s 7ms/step - loss: 0.2786 - binary_accuracy: 0.8854\n",
      "Epoch 66/100\n",
      "410/410 [==============================] - 3s 6ms/step - loss: 0.2596 - binary_accuracy: 0.8976\n",
      "Epoch 67/100\n",
      "410/410 [==============================] - 3s 7ms/step - loss: 0.3135 - binary_accuracy: 0.8610\n",
      "Epoch 68/100\n",
      "410/410 [==============================] - 2s 6ms/step - loss: 0.2916 - binary_accuracy: 0.8878\n",
      "Epoch 69/100\n",
      "410/410 [==============================] - 2s 6ms/step - loss: 0.2825 - binary_accuracy: 0.8756\n",
      "Epoch 70/100\n",
      "410/410 [==============================] - 3s 6ms/step - loss: 0.4750 - binary_accuracy: 0.8171\n",
      "Epoch 71/100\n",
      "410/410 [==============================] - 3s 6ms/step - loss: 0.3890 - binary_accuracy: 0.8146\n",
      "Epoch 72/100\n",
      "410/410 [==============================] - 3s 7ms/step - loss: 0.2820 - binary_accuracy: 0.8902\n",
      "Epoch 73/100\n",
      "410/410 [==============================] - 2s 6ms/step - loss: 0.2828 - binary_accuracy: 0.8854\n",
      "Epoch 74/100\n",
      "410/410 [==============================] - 2s 6ms/step - loss: 0.2659 - binary_accuracy: 0.8951\n",
      "Epoch 75/100\n"
     ]
    },
    {
     "name": "stdout",
     "output_type": "stream",
     "text": [
      "410/410 [==============================] - 3s 7ms/step - loss: 0.4775 - binary_accuracy: 0.8220\n",
      "Epoch 76/100\n",
      "410/410 [==============================] - 2s 6ms/step - loss: 0.3371 - binary_accuracy: 0.8659\n",
      "Epoch 77/100\n",
      "410/410 [==============================] - 2s 6ms/step - loss: 0.3099 - binary_accuracy: 0.8829\n",
      "Epoch 78/100\n",
      "410/410 [==============================] - 3s 6ms/step - loss: 0.3660 - binary_accuracy: 0.8634\n",
      "Epoch 79/100\n",
      "410/410 [==============================] - 3s 7ms/step - loss: 0.3284 - binary_accuracy: 0.8683\n",
      "Epoch 80/100\n",
      "410/410 [==============================] - 3s 6ms/step - loss: 0.3707 - binary_accuracy: 0.8366\n",
      "Epoch 81/100\n",
      "410/410 [==============================] - 3s 6ms/step - loss: 0.3028 - binary_accuracy: 0.8537\n",
      "Epoch 82/100\n",
      "410/410 [==============================] - 2s 6ms/step - loss: 0.3790 - binary_accuracy: 0.8341\n",
      "Epoch 83/100\n",
      "410/410 [==============================] - 3s 7ms/step - loss: 0.2687 - binary_accuracy: 0.8780\n",
      "Epoch 84/100\n",
      "410/410 [==============================] - 3s 7ms/step - loss: 0.3294 - binary_accuracy: 0.8927A: 1s - loss: 0.3943 - binary_accuracy: \n",
      "Epoch 85/100\n",
      "410/410 [==============================] - 2s 6ms/step - loss: 0.2961 - binary_accuracy: 0.8634\n",
      "Epoch 86/100\n",
      "410/410 [==============================] - 2s 6ms/step - loss: 0.4240 - binary_accuracy: 0.8244\n",
      "Epoch 87/100\n",
      "410/410 [==============================] - 3s 7ms/step - loss: 0.3126 - binary_accuracy: 0.8561\n",
      "Epoch 88/100\n",
      "410/410 [==============================] - 3s 7ms/step - loss: 0.2596 - binary_accuracy: 0.9098\n",
      "Epoch 89/100\n",
      "410/410 [==============================] - 3s 6ms/step - loss: 0.3562 - binary_accuracy: 0.8366\n",
      "Epoch 90/100\n",
      "410/410 [==============================] - 3s 6ms/step - loss: 0.3062 - binary_accuracy: 0.8659\n",
      "Epoch 91/100\n",
      "410/410 [==============================] - 3s 7ms/step - loss: 0.2555 - binary_accuracy: 0.9049\n",
      "Epoch 92/100\n",
      "410/410 [==============================] - 2s 6ms/step - loss: 0.3025 - binary_accuracy: 0.8610\n",
      "Epoch 93/100\n",
      "410/410 [==============================] - 2s 6ms/step - loss: 0.2608 - binary_accuracy: 0.8829\n",
      "Epoch 94/100\n",
      "410/410 [==============================] - 2s 6ms/step - loss: 0.2672 - binary_accuracy: 0.8951\n",
      "Epoch 95/100\n",
      "410/410 [==============================] - 2s 6ms/step - loss: 0.3039 - binary_accuracy: 0.8707\n",
      "Epoch 96/100\n",
      "410/410 [==============================] - 2s 6ms/step - loss: 0.2748 - binary_accuracy: 0.9000\n",
      "Epoch 97/100\n",
      "410/410 [==============================] - 2s 6ms/step - loss: 0.2218 - binary_accuracy: 0.9122\n",
      "Epoch 98/100\n",
      "410/410 [==============================] - 2s 6ms/step - loss: 0.4367 - binary_accuracy: 0.8146\n",
      "Epoch 99/100\n",
      "410/410 [==============================] - 2s 6ms/step - loss: 0.3186 - binary_accuracy: 0.8756\n",
      "Epoch 100/100\n",
      "410/410 [==============================] - 2s 6ms/step - loss: 0.4026 - binary_accuracy: 0.8390\n"
     ]
    },
    {
     "data": {
      "text/plain": [
       "<keras.callbacks.History at 0x20d33b8d7b8>"
      ]
     },
     "execution_count": 98,
     "metadata": {},
     "output_type": "execute_result"
    }
   ],
   "source": [
    "model_B.fit(test_train1,y_train2,epochs=100,shuffle=True)\n",
    "\n"
   ]
  },
  {
   "cell_type": "markdown",
   "metadata": {},
   "source": [
    "# pre"
   ]
  },
  {
   "cell_type": "code",
   "execution_count": 94,
   "metadata": {},
   "outputs": [
    {
     "name": "stdout",
     "output_type": "stream",
     "text": [
      "(322, 4, 4, 512)\n",
      "(322, 2)\n",
      "322/322 [==============================] - 1s 2ms/step\n"
     ]
    }
   ],
   "source": [
    "\n",
    "print(np.shape(test_test))\n",
    "print(np.shape(y_test))\n",
    "score=model_B.evaluate(test_test,y_test)"
   ]
  },
  {
   "cell_type": "code",
   "execution_count": 95,
   "metadata": {},
   "outputs": [
    {
     "data": {
      "text/plain": [
       "[1.5540010581105392, 0.5]"
      ]
     },
     "execution_count": 95,
     "metadata": {},
     "output_type": "execute_result"
    }
   ],
   "source": [
    "score"
   ]
  },
  {
   "cell_type": "code",
   "execution_count": 105,
   "metadata": {},
   "outputs": [
    {
     "name": "stdout",
     "output_type": "stream",
     "text": [
      "Epoch 1/5\n",
      "732/732 [==============================] - 5s 6ms/step - loss: 0.0019 - acc: 1.0000\n",
      "Epoch 2/5\n",
      "732/732 [==============================] - 4s 6ms/step - loss: 9.6484e-04 - acc: 1.0000\n",
      "Epoch 3/5\n",
      "732/732 [==============================] - 4s 6ms/step - loss: 5.7375e-04 - acc: 1.0000\n",
      "Epoch 4/5\n",
      "732/732 [==============================] - 4s 6ms/step - loss: 3.8717e-04 - acc: 1.0000\n",
      "Epoch 5/5\n",
      "732/732 [==============================] - 4s 6ms/step - loss: 3.1165e-04 - acc: 1.0000\n"
     ]
    },
    {
     "data": {
      "text/plain": [
       "<keras.callbacks.History at 0x140aa2d3a58>"
      ]
     },
     "execution_count": 105,
     "metadata": {},
     "output_type": "execute_result"
    }
   ],
   "source": [
    "model_domain.fit(test,y_train1,epochs=5,shuffle=True)"
   ]
  },
  {
   "cell_type": "code",
   "execution_count": null,
   "metadata": {
    "collapsed": true
   },
   "outputs": [],
   "source": []
  },
  {
   "cell_type": "code",
   "execution_count": null,
   "metadata": {
    "collapsed": true
   },
   "outputs": [],
   "source": [
    "test=model_22.get_layer('').output\n",
    "\n",
    "model_3=Sequential()\n",
    "input_shape=[4,4,512]\n",
    "\n",
    "model_3.add(Conv2D(512, 2, padding='same',input_shape=input_shape))\n",
    "model_3.add(Activation('relu'))\n",
    "\n",
    "model_3.add(MaxPooling2D(pool_size=2))\n",
    "\n",
    "model_22.add(Conv2D(512, 2, padding='same',input_shape=input_shape))\n",
    "model_22.add(Activation('relu'))\n",
    "\n",
    "model_22.add(MaxPooling2D(pool_size=2))\n",
    "\n",
    "# model_22.add(Flatten())\n",
    "# model_22.add(Dense(512,input_shape=input_shape)) \n",
    "# model_22.add(Activation('relu')) \n",
    "\n",
    "# model_22.add(Dense(2))  \n",
    "# model_22.add(Activation('softmax'))"
   ]
  },
  {
   "cell_type": "code",
   "execution_count": null,
   "metadata": {
    "collapsed": true
   },
   "outputs": [],
   "source": []
  },
  {
   "cell_type": "code",
   "execution_count": 217,
   "metadata": {
    "collapsed": true,
    "scrolled": true
   },
   "outputs": [],
   "source": [
    "# input1=keras.layers.Input(shape=(64,64,1))\n",
    "# x1 = keras.layers.Conv2D(256, 3, padding='same',activation='relu')(input1)\n",
    "# x1 = keras.layers.Conv2D(128, 3, padding='same',activation='relu')(x1)\n",
    "# x1 = keras.layers.Conv2D(128, 3, padding='same',activation='relu')(x1)\n",
    "# x1 = keras.layers.Conv2D(64, 3, padding='same',activation='relu')(x1)\n",
    "# x1=reverse_gradient(x1, 1)"
   ]
  },
  {
   "cell_type": "code",
   "execution_count": 218,
   "metadata": {
    "collapsed": true
   },
   "outputs": [],
   "source": [
    "# x1=keras.layers.Dense(512,activation='relu')(x1)  "
   ]
  },
  {
   "cell_type": "code",
   "execution_count": null,
   "metadata": {
    "collapsed": true
   },
   "outputs": [],
   "source": [
    "x=model.output\n",
    "# x=Flatten()(x)\n",
    "x=Dense(1024,activation='relu')(x)\n",
    "x=Dense(1024,activation='relu')(x)\n",
    "predictions=Dense(2, activation='softmax')(x)\n",
    "model2=Model(inputs=model.input,outputs=predictions)"
   ]
  },
  {
   "cell_type": "code",
   "execution_count": 219,
   "metadata": {
    "collapsed": true
   },
   "outputs": [],
   "source": [
    "# x1=keras.layers.Dense(1,activation='softmax')(x1) "
   ]
  },
  {
   "cell_type": "code",
   "execution_count": 62,
   "metadata": {
    "collapsed": true
   },
   "outputs": [],
   "source": [
    "x=model.output\n",
    "# x=Flatten()(x)\n",
    "x=Dense(512,activation='relu')(x)\n",
    "predictions=Dense(2, activation='softmax')(x)\n",
    "model1=Model(inputs=model.input,outputs=predictions)"
   ]
  },
  {
   "cell_type": "code",
   "execution_count": 98,
   "metadata": {
    "collapsed": true
   },
   "outputs": [],
   "source": [
    "x=model.output\n",
    "# x=Flatten()(x)\n",
    "x=Dense(1024,activation='relu')(x)\n",
    "x=Dense(1024,activation='relu')(x)\n",
    "predictions=Dense(2, activation='softmax')(x)\n",
    "model2=Model(inputs=model.input,outputs=predictions)"
   ]
  },
  {
   "cell_type": "code",
   "execution_count": null,
   "metadata": {
    "collapsed": true
   },
   "outputs": [],
   "source": []
  },
  {
   "cell_type": "code",
   "execution_count": 81,
   "metadata": {},
   "outputs": [
    {
     "name": "stdout",
     "output_type": "stream",
     "text": [
      "_________________________________________________________________\n",
      "Layer (type)                 Output Shape              Param #   \n",
      "=================================================================\n",
      "conv2d_40_input (InputLayer) (None, 256, 256, 1)       0         \n",
      "_________________________________________________________________\n",
      "conv2d_40 (Conv2D)           (None, 256, 256, 32)      320       \n",
      "_________________________________________________________________\n",
      "activation_40 (Activation)   (None, 256, 256, 32)      0         \n",
      "_________________________________________________________________\n",
      "max_pooling2d_13 (MaxPooling (None, 85, 85, 32)        0         \n",
      "_________________________________________________________________\n",
      "conv2d_41 (Conv2D)           (None, 43, 43, 64)        18496     \n",
      "_________________________________________________________________\n",
      "activation_41 (Activation)   (None, 43, 43, 64)        0         \n",
      "_________________________________________________________________\n",
      "conv2d_42 (Conv2D)           (None, 43, 43, 64)        36928     \n",
      "_________________________________________________________________\n",
      "activation_42 (Activation)   (None, 43, 43, 64)        0         \n",
      "_________________________________________________________________\n",
      "conv2d_43 (Conv2D)           (None, 43, 43, 64)        36928     \n",
      "_________________________________________________________________\n",
      "activation_43 (Activation)   (None, 43, 43, 64)        0         \n",
      "_________________________________________________________________\n",
      "max_pooling2d_14 (MaxPooling (None, 21, 21, 64)        0         \n",
      "_________________________________________________________________\n",
      "conv2d_44 (Conv2D)           (None, 21, 21, 128)       73856     \n",
      "_________________________________________________________________\n",
      "activation_44 (Activation)   (None, 21, 21, 128)       0         \n",
      "_________________________________________________________________\n",
      "conv2d_45 (Conv2D)           (None, 21, 21, 128)       147584    \n",
      "_________________________________________________________________\n",
      "activation_45 (Activation)   (None, 21, 21, 128)       0         \n",
      "_________________________________________________________________\n",
      "conv2d_46 (Conv2D)           (None, 21, 21, 128)       147584    \n",
      "_________________________________________________________________\n",
      "activation_46 (Activation)   (None, 21, 21, 128)       0         \n",
      "_________________________________________________________________\n",
      "max_pooling2d_15 (MaxPooling (None, 10, 10, 128)       0         \n",
      "_________________________________________________________________\n",
      "conv2d_47 (Conv2D)           (None, 10, 10, 128)       147584    \n",
      "_________________________________________________________________\n",
      "activation_47 (Activation)   (None, 10, 10, 128)       0         \n",
      "_________________________________________________________________\n",
      "conv2d_48 (Conv2D)           (None, 10, 10, 128)       147584    \n",
      "_________________________________________________________________\n",
      "activation_48 (Activation)   (None, 10, 10, 128)       0         \n",
      "_________________________________________________________________\n",
      "conv2d_49 (Conv2D)           (None, 5, 5, 128)         147584    \n",
      "_________________________________________________________________\n",
      "activation_49 (Activation)   (None, 5, 5, 128)         0         \n",
      "_________________________________________________________________\n",
      "max_pooling2d_16 (MaxPooling (None, 2, 2, 128)         0         \n",
      "_________________________________________________________________\n",
      "conv2d_50 (Conv2D)           (None, 2, 2, 256)         295168    \n",
      "_________________________________________________________________\n",
      "activation_50 (Activation)   (None, 2, 2, 256)         0         \n",
      "_________________________________________________________________\n",
      "conv2d_51 (Conv2D)           (None, 2, 2, 256)         590080    \n",
      "_________________________________________________________________\n",
      "activation_51 (Activation)   (None, 2, 2, 256)         0         \n",
      "_________________________________________________________________\n",
      "conv2d_52 (Conv2D)           (None, 2, 2, 256)         590080    \n",
      "_________________________________________________________________\n",
      "activation_52 (Activation)   (None, 2, 2, 256)         0         \n",
      "_________________________________________________________________\n",
      "global_average_pooling2d_4 ( (None, 256)               0         \n",
      "_________________________________________________________________\n",
      "dense_13 (Dense)             (None, 1024)              263168    \n",
      "_________________________________________________________________\n",
      "dense_14 (Dense)             (None, 1024)              1049600   \n",
      "_________________________________________________________________\n",
      "dense_15 (Dense)             (None, 2)                 2050      \n",
      "=================================================================\n",
      "Total params: 3,694,594\n",
      "Trainable params: 3,694,594\n",
      "Non-trainable params: 0\n",
      "_________________________________________________________________\n"
     ]
    }
   ],
   "source": [
    "model2.summary()"
   ]
  },
  {
   "cell_type": "code",
   "execution_count": 222,
   "metadata": {
    "collapsed": true
   },
   "outputs": [],
   "source": [
    "# model.add(Flatten())  \n",
    "# model.add(Dense(512))  \n",
    "# model.add(Activation('relu'))  \n",
    "# # model.add(Dropout(0.5))\n",
    "\n",
    "# model.add(Dense(2))  \n",
    "# model.add(Activation('softmax'))\n"
   ]
  },
  {
   "cell_type": "code",
   "execution_count": 39,
   "metadata": {},
   "outputs": [
    {
     "ename": "NameError",
     "evalue": "name 'model1' is not defined",
     "output_type": "error",
     "traceback": [
      "\u001b[1;31m---------------------------------------------------------------------------\u001b[0m",
      "\u001b[1;31mNameError\u001b[0m                                 Traceback (most recent call last)",
      "\u001b[1;32m<ipython-input-39-386d97bc4273>\u001b[0m in \u001b[0;36m<module>\u001b[1;34m()\u001b[0m\n\u001b[1;32m----> 1\u001b[1;33m model1.compile(loss='binary_crossentropy',\n\u001b[0m\u001b[0;32m      2\u001b[0m               \u001b[0moptimizer\u001b[0m\u001b[1;33m=\u001b[0m\u001b[1;34m'sgd'\u001b[0m\u001b[1;33m,\u001b[0m\u001b[1;33m\u001b[0m\u001b[0m\n\u001b[0;32m      3\u001b[0m               metrics=['accuracy'])\n",
      "\u001b[1;31mNameError\u001b[0m: name 'model1' is not defined"
     ]
    }
   ],
   "source": [
    "model1.compile(loss='binary_crossentropy',\n",
    "              optimizer='sgd',\n",
    "              metrics=['accuracy'])"
   ]
  },
  {
   "cell_type": "code",
   "execution_count": 73,
   "metadata": {},
   "outputs": [
    {
     "name": "stdout",
     "output_type": "stream",
     "text": [
      "Epoch 1/1\n",
      "732/732 [==============================] - 56s 77ms/step - loss: 0.6533 - acc: 0.5642\n"
     ]
    }
   ],
   "source": [
    "domain=model1.fit(x_train1,y_train1,epochs=1,shuffle=True)"
   ]
  },
  {
   "cell_type": "code",
   "execution_count": 99,
   "metadata": {
    "collapsed": true
   },
   "outputs": [],
   "source": [
    "model2.compile(loss='binary_crossentropy',\n",
    "              optimizer='sgd',\n",
    "              metrics=['accuracy'])"
   ]
  },
  {
   "cell_type": "code",
   "execution_count": 100,
   "metadata": {},
   "outputs": [
    {
     "name": "stdout",
     "output_type": "stream",
     "text": [
      "(710, 256, 256, 1)\n"
     ]
    }
   ],
   "source": [
    "print(np.shape(x_train2))"
   ]
  },
  {
   "cell_type": "code",
   "execution_count": 101,
   "metadata": {},
   "outputs": [
    {
     "name": "stdout",
     "output_type": "stream",
     "text": [
      "Epoch 1/5\n",
      "710/710 [==============================] - 101s 143ms/step - loss: 0.6918 - acc: 0.5634\n",
      "Epoch 2/5\n",
      "710/710 [==============================] - 104s 146ms/step - loss: 0.6886 - acc: 0.5634\n",
      "Epoch 3/5\n",
      "160/710 [=====>........................] - ETA: 2:33 - loss: 0.6804 - acc: 0.6250"
     ]
    },
    {
     "ename": "KeyboardInterrupt",
     "evalue": "",
     "output_type": "error",
     "traceback": [
      "\u001b[1;31m---------------------------------------------------------------------------\u001b[0m",
      "\u001b[1;31mKeyboardInterrupt\u001b[0m                         Traceback (most recent call last)",
      "\u001b[1;32m<ipython-input-101-efcb5c822308>\u001b[0m in \u001b[0;36m<module>\u001b[1;34m()\u001b[0m\n\u001b[1;32m----> 1\u001b[1;33m \u001b[0mpre\u001b[0m\u001b[1;33m=\u001b[0m\u001b[0mmodel2\u001b[0m\u001b[1;33m.\u001b[0m\u001b[0mfit\u001b[0m\u001b[1;33m(\u001b[0m\u001b[0mx_train2\u001b[0m\u001b[1;33m,\u001b[0m\u001b[0my_train2\u001b[0m\u001b[1;33m,\u001b[0m\u001b[0mepochs\u001b[0m\u001b[1;33m=\u001b[0m\u001b[1;36m5\u001b[0m\u001b[1;33m,\u001b[0m\u001b[0mshuffle\u001b[0m\u001b[1;33m=\u001b[0m\u001b[1;32mTrue\u001b[0m\u001b[1;33m)\u001b[0m\u001b[1;33m\u001b[0m\u001b[0m\n\u001b[0m",
      "\u001b[1;32mD:\\ProgramData\\Anaconda3\\lib\\site-packages\\keras\\engine\\training.py\u001b[0m in \u001b[0;36mfit\u001b[1;34m(self, x, y, batch_size, epochs, verbose, callbacks, validation_split, validation_data, shuffle, class_weight, sample_weight, initial_epoch, steps_per_epoch, validation_steps, **kwargs)\u001b[0m\n\u001b[0;32m   1629\u001b[0m                               \u001b[0minitial_epoch\u001b[0m\u001b[1;33m=\u001b[0m\u001b[0minitial_epoch\u001b[0m\u001b[1;33m,\u001b[0m\u001b[1;33m\u001b[0m\u001b[0m\n\u001b[0;32m   1630\u001b[0m                               \u001b[0msteps_per_epoch\u001b[0m\u001b[1;33m=\u001b[0m\u001b[0msteps_per_epoch\u001b[0m\u001b[1;33m,\u001b[0m\u001b[1;33m\u001b[0m\u001b[0m\n\u001b[1;32m-> 1631\u001b[1;33m                               validation_steps=validation_steps)\n\u001b[0m\u001b[0;32m   1632\u001b[0m \u001b[1;33m\u001b[0m\u001b[0m\n\u001b[0;32m   1633\u001b[0m     def evaluate(self, x=None, y=None,\n",
      "\u001b[1;32mD:\\ProgramData\\Anaconda3\\lib\\site-packages\\keras\\engine\\training.py\u001b[0m in \u001b[0;36m_fit_loop\u001b[1;34m(self, f, ins, out_labels, batch_size, epochs, verbose, callbacks, val_f, val_ins, shuffle, callback_metrics, initial_epoch, steps_per_epoch, validation_steps)\u001b[0m\n\u001b[0;32m   1211\u001b[0m                     \u001b[0mbatch_logs\u001b[0m\u001b[1;33m[\u001b[0m\u001b[1;34m'size'\u001b[0m\u001b[1;33m]\u001b[0m \u001b[1;33m=\u001b[0m \u001b[0mlen\u001b[0m\u001b[1;33m(\u001b[0m\u001b[0mbatch_ids\u001b[0m\u001b[1;33m)\u001b[0m\u001b[1;33m\u001b[0m\u001b[0m\n\u001b[0;32m   1212\u001b[0m                     \u001b[0mcallbacks\u001b[0m\u001b[1;33m.\u001b[0m\u001b[0mon_batch_begin\u001b[0m\u001b[1;33m(\u001b[0m\u001b[0mbatch_index\u001b[0m\u001b[1;33m,\u001b[0m \u001b[0mbatch_logs\u001b[0m\u001b[1;33m)\u001b[0m\u001b[1;33m\u001b[0m\u001b[0m\n\u001b[1;32m-> 1213\u001b[1;33m                     \u001b[0mouts\u001b[0m \u001b[1;33m=\u001b[0m \u001b[0mf\u001b[0m\u001b[1;33m(\u001b[0m\u001b[0mins_batch\u001b[0m\u001b[1;33m)\u001b[0m\u001b[1;33m\u001b[0m\u001b[0m\n\u001b[0m\u001b[0;32m   1214\u001b[0m                     \u001b[1;32mif\u001b[0m \u001b[1;32mnot\u001b[0m \u001b[0misinstance\u001b[0m\u001b[1;33m(\u001b[0m\u001b[0mouts\u001b[0m\u001b[1;33m,\u001b[0m \u001b[0mlist\u001b[0m\u001b[1;33m)\u001b[0m\u001b[1;33m:\u001b[0m\u001b[1;33m\u001b[0m\u001b[0m\n\u001b[0;32m   1215\u001b[0m                         \u001b[0mouts\u001b[0m \u001b[1;33m=\u001b[0m \u001b[1;33m[\u001b[0m\u001b[0mouts\u001b[0m\u001b[1;33m]\u001b[0m\u001b[1;33m\u001b[0m\u001b[0m\n",
      "\u001b[1;32mD:\\ProgramData\\Anaconda3\\lib\\site-packages\\keras\\backend\\tensorflow_backend.py\u001b[0m in \u001b[0;36m__call__\u001b[1;34m(self, inputs)\u001b[0m\n\u001b[0;32m   2330\u001b[0m         updated = session.run(self.outputs + [self.updates_op],\n\u001b[0;32m   2331\u001b[0m                               \u001b[0mfeed_dict\u001b[0m\u001b[1;33m=\u001b[0m\u001b[0mfeed_dict\u001b[0m\u001b[1;33m,\u001b[0m\u001b[1;33m\u001b[0m\u001b[0m\n\u001b[1;32m-> 2332\u001b[1;33m                               **self.session_kwargs)\n\u001b[0m\u001b[0;32m   2333\u001b[0m         \u001b[1;32mreturn\u001b[0m \u001b[0mupdated\u001b[0m\u001b[1;33m[\u001b[0m\u001b[1;33m:\u001b[0m\u001b[0mlen\u001b[0m\u001b[1;33m(\u001b[0m\u001b[0mself\u001b[0m\u001b[1;33m.\u001b[0m\u001b[0moutputs\u001b[0m\u001b[1;33m)\u001b[0m\u001b[1;33m]\u001b[0m\u001b[1;33m\u001b[0m\u001b[0m\n\u001b[0;32m   2334\u001b[0m \u001b[1;33m\u001b[0m\u001b[0m\n",
      "\u001b[1;32mD:\\ProgramData\\Anaconda3\\lib\\site-packages\\tensorflow\\python\\client\\session.py\u001b[0m in \u001b[0;36mrun\u001b[1;34m(self, fetches, feed_dict, options, run_metadata)\u001b[0m\n\u001b[0;32m    887\u001b[0m     \u001b[1;32mtry\u001b[0m\u001b[1;33m:\u001b[0m\u001b[1;33m\u001b[0m\u001b[0m\n\u001b[0;32m    888\u001b[0m       result = self._run(None, fetches, feed_dict, options_ptr,\n\u001b[1;32m--> 889\u001b[1;33m                          run_metadata_ptr)\n\u001b[0m\u001b[0;32m    890\u001b[0m       \u001b[1;32mif\u001b[0m \u001b[0mrun_metadata\u001b[0m\u001b[1;33m:\u001b[0m\u001b[1;33m\u001b[0m\u001b[0m\n\u001b[0;32m    891\u001b[0m         \u001b[0mproto_data\u001b[0m \u001b[1;33m=\u001b[0m \u001b[0mtf_session\u001b[0m\u001b[1;33m.\u001b[0m\u001b[0mTF_GetBuffer\u001b[0m\u001b[1;33m(\u001b[0m\u001b[0mrun_metadata_ptr\u001b[0m\u001b[1;33m)\u001b[0m\u001b[1;33m\u001b[0m\u001b[0m\n",
      "\u001b[1;32mD:\\ProgramData\\Anaconda3\\lib\\site-packages\\tensorflow\\python\\client\\session.py\u001b[0m in \u001b[0;36m_run\u001b[1;34m(self, handle, fetches, feed_dict, options, run_metadata)\u001b[0m\n\u001b[0;32m   1118\u001b[0m     \u001b[1;32mif\u001b[0m \u001b[0mfinal_fetches\u001b[0m \u001b[1;32mor\u001b[0m \u001b[0mfinal_targets\u001b[0m \u001b[1;32mor\u001b[0m \u001b[1;33m(\u001b[0m\u001b[0mhandle\u001b[0m \u001b[1;32mand\u001b[0m \u001b[0mfeed_dict_tensor\u001b[0m\u001b[1;33m)\u001b[0m\u001b[1;33m:\u001b[0m\u001b[1;33m\u001b[0m\u001b[0m\n\u001b[0;32m   1119\u001b[0m       results = self._do_run(handle, final_targets, final_fetches,\n\u001b[1;32m-> 1120\u001b[1;33m                              feed_dict_tensor, options, run_metadata)\n\u001b[0m\u001b[0;32m   1121\u001b[0m     \u001b[1;32melse\u001b[0m\u001b[1;33m:\u001b[0m\u001b[1;33m\u001b[0m\u001b[0m\n\u001b[0;32m   1122\u001b[0m       \u001b[0mresults\u001b[0m \u001b[1;33m=\u001b[0m \u001b[1;33m[\u001b[0m\u001b[1;33m]\u001b[0m\u001b[1;33m\u001b[0m\u001b[0m\n",
      "\u001b[1;32mD:\\ProgramData\\Anaconda3\\lib\\site-packages\\tensorflow\\python\\client\\session.py\u001b[0m in \u001b[0;36m_do_run\u001b[1;34m(self, handle, target_list, fetch_list, feed_dict, options, run_metadata)\u001b[0m\n\u001b[0;32m   1315\u001b[0m     \u001b[1;32mif\u001b[0m \u001b[0mhandle\u001b[0m \u001b[1;32mis\u001b[0m \u001b[1;32mNone\u001b[0m\u001b[1;33m:\u001b[0m\u001b[1;33m\u001b[0m\u001b[0m\n\u001b[0;32m   1316\u001b[0m       return self._do_call(_run_fn, self._session, feeds, fetches, targets,\n\u001b[1;32m-> 1317\u001b[1;33m                            options, run_metadata)\n\u001b[0m\u001b[0;32m   1318\u001b[0m     \u001b[1;32melse\u001b[0m\u001b[1;33m:\u001b[0m\u001b[1;33m\u001b[0m\u001b[0m\n\u001b[0;32m   1319\u001b[0m       \u001b[1;32mreturn\u001b[0m \u001b[0mself\u001b[0m\u001b[1;33m.\u001b[0m\u001b[0m_do_call\u001b[0m\u001b[1;33m(\u001b[0m\u001b[0m_prun_fn\u001b[0m\u001b[1;33m,\u001b[0m \u001b[0mself\u001b[0m\u001b[1;33m.\u001b[0m\u001b[0m_session\u001b[0m\u001b[1;33m,\u001b[0m \u001b[0mhandle\u001b[0m\u001b[1;33m,\u001b[0m \u001b[0mfeeds\u001b[0m\u001b[1;33m,\u001b[0m \u001b[0mfetches\u001b[0m\u001b[1;33m)\u001b[0m\u001b[1;33m\u001b[0m\u001b[0m\n",
      "\u001b[1;32mD:\\ProgramData\\Anaconda3\\lib\\site-packages\\tensorflow\\python\\client\\session.py\u001b[0m in \u001b[0;36m_do_call\u001b[1;34m(self, fn, *args)\u001b[0m\n\u001b[0;32m   1321\u001b[0m   \u001b[1;32mdef\u001b[0m \u001b[0m_do_call\u001b[0m\u001b[1;33m(\u001b[0m\u001b[0mself\u001b[0m\u001b[1;33m,\u001b[0m \u001b[0mfn\u001b[0m\u001b[1;33m,\u001b[0m \u001b[1;33m*\u001b[0m\u001b[0margs\u001b[0m\u001b[1;33m)\u001b[0m\u001b[1;33m:\u001b[0m\u001b[1;33m\u001b[0m\u001b[0m\n\u001b[0;32m   1322\u001b[0m     \u001b[1;32mtry\u001b[0m\u001b[1;33m:\u001b[0m\u001b[1;33m\u001b[0m\u001b[0m\n\u001b[1;32m-> 1323\u001b[1;33m       \u001b[1;32mreturn\u001b[0m \u001b[0mfn\u001b[0m\u001b[1;33m(\u001b[0m\u001b[1;33m*\u001b[0m\u001b[0margs\u001b[0m\u001b[1;33m)\u001b[0m\u001b[1;33m\u001b[0m\u001b[0m\n\u001b[0m\u001b[0;32m   1324\u001b[0m     \u001b[1;32mexcept\u001b[0m \u001b[0merrors\u001b[0m\u001b[1;33m.\u001b[0m\u001b[0mOpError\u001b[0m \u001b[1;32mas\u001b[0m \u001b[0me\u001b[0m\u001b[1;33m:\u001b[0m\u001b[1;33m\u001b[0m\u001b[0m\n\u001b[0;32m   1325\u001b[0m       \u001b[0mmessage\u001b[0m \u001b[1;33m=\u001b[0m \u001b[0mcompat\u001b[0m\u001b[1;33m.\u001b[0m\u001b[0mas_text\u001b[0m\u001b[1;33m(\u001b[0m\u001b[0me\u001b[0m\u001b[1;33m.\u001b[0m\u001b[0mmessage\u001b[0m\u001b[1;33m)\u001b[0m\u001b[1;33m\u001b[0m\u001b[0m\n",
      "\u001b[1;32mD:\\ProgramData\\Anaconda3\\lib\\site-packages\\tensorflow\\python\\client\\session.py\u001b[0m in \u001b[0;36m_run_fn\u001b[1;34m(session, feed_dict, fetch_list, target_list, options, run_metadata)\u001b[0m\n\u001b[0;32m   1300\u001b[0m           return tf_session.TF_Run(session, options,\n\u001b[0;32m   1301\u001b[0m                                    \u001b[0mfeed_dict\u001b[0m\u001b[1;33m,\u001b[0m \u001b[0mfetch_list\u001b[0m\u001b[1;33m,\u001b[0m \u001b[0mtarget_list\u001b[0m\u001b[1;33m,\u001b[0m\u001b[1;33m\u001b[0m\u001b[0m\n\u001b[1;32m-> 1302\u001b[1;33m                                    status, run_metadata)\n\u001b[0m\u001b[0;32m   1303\u001b[0m \u001b[1;33m\u001b[0m\u001b[0m\n\u001b[0;32m   1304\u001b[0m     \u001b[1;32mdef\u001b[0m \u001b[0m_prun_fn\u001b[0m\u001b[1;33m(\u001b[0m\u001b[0msession\u001b[0m\u001b[1;33m,\u001b[0m \u001b[0mhandle\u001b[0m\u001b[1;33m,\u001b[0m \u001b[0mfeed_dict\u001b[0m\u001b[1;33m,\u001b[0m \u001b[0mfetch_list\u001b[0m\u001b[1;33m)\u001b[0m\u001b[1;33m:\u001b[0m\u001b[1;33m\u001b[0m\u001b[0m\n",
      "\u001b[1;31mKeyboardInterrupt\u001b[0m: "
     ]
    }
   ],
   "source": [
    "pre=model2.fit(x_train2,y_train2,epochs=5,shuffle=True)"
   ]
  },
  {
   "cell_type": "code",
   "execution_count": null,
   "metadata": {
    "collapsed": true
   },
   "outputs": [],
   "source": []
  },
  {
   "cell_type": "code",
   "execution_count": 31,
   "metadata": {
    "collapsed": true
   },
   "outputs": [],
   "source": [
    "from keras.models import Model\n",
    "model_21=Model(inputs=model.input,outputs=model.get_layer('max_pooling2d_2').output)"
   ]
  },
  {
   "cell_type": "code",
   "execution_count": 32,
   "metadata": {
    "collapsed": true
   },
   "outputs": [],
   "source": [
    "features=model_21.predict(x_train2)"
   ]
  },
  {
   "cell_type": "code",
   "execution_count": 33,
   "metadata": {},
   "outputs": [
    {
     "name": "stdout",
     "output_type": "stream",
     "text": [
      "(410, 16, 16, 128)\n"
     ]
    }
   ],
   "source": [
    "\n",
    "print(np.shape(features))"
   ]
  },
  {
   "cell_type": "code",
   "execution_count": 36,
   "metadata": {
    "collapsed": true
   },
   "outputs": [],
   "source": [
    "input_shape=[16,16,128]\n",
    "model_22=Sequential()\n",
    "\n",
    "model_22.add(Conv2D(128, 3, padding='same', input_shape=input_shape))\n",
    "model_22.add(Activation('relu'))\n",
    "model_22.add(MaxPooling2D(pool_size=2))\n",
    "\n",
    "model_22.add(Conv2D(64, 3, padding='same'))\n",
    "model_22.add(Activation('relu'))\n",
    "model_22.add(MaxPooling2D(pool_size=2))\n",
    "\n",
    "model_22.add(Flatten(input_shape=input_shape))\n",
    "model_22.add(Dense(512)) \n",
    "model_22.add(Activation('relu'))\n",
    "model.add(Dropout(0.5))"
   ]
  },
  {
   "cell_type": "code",
   "execution_count": 37,
   "metadata": {
    "collapsed": true
   },
   "outputs": [],
   "source": [
    "model_22.add(Dense(512)) \n",
    "model_22.add(Activation('relu')) \n",
    "model.add(Dropout(0.5))\n",
    "model_22.add(Dense(2))  \n",
    "model_22.add(Activation('softmax'))"
   ]
  },
  {
   "cell_type": "code",
   "execution_count": null,
   "metadata": {
    "collapsed": true
   },
   "outputs": [],
   "source": []
  },
  {
   "cell_type": "code",
   "execution_count": 38,
   "metadata": {},
   "outputs": [
    {
     "name": "stdout",
     "output_type": "stream",
     "text": [
      "_________________________________________________________________\n",
      "Layer (type)                 Output Shape              Param #   \n",
      "=================================================================\n",
      "conv2d_7 (Conv2D)            (None, 16, 16, 128)       147584    \n",
      "_________________________________________________________________\n",
      "activation_10 (Activation)   (None, 16, 16, 128)       0         \n",
      "_________________________________________________________________\n",
      "max_pooling2d_4 (MaxPooling2 (None, 8, 8, 128)         0         \n",
      "_________________________________________________________________\n",
      "conv2d_8 (Conv2D)            (None, 8, 8, 64)          73792     \n",
      "_________________________________________________________________\n",
      "activation_11 (Activation)   (None, 8, 8, 64)          0         \n",
      "_________________________________________________________________\n",
      "max_pooling2d_5 (MaxPooling2 (None, 4, 4, 64)          0         \n",
      "_________________________________________________________________\n",
      "flatten_3 (Flatten)          (None, 1024)              0         \n",
      "_________________________________________________________________\n",
      "dense_6 (Dense)              (None, 512)               524800    \n",
      "_________________________________________________________________\n",
      "activation_12 (Activation)   (None, 512)               0         \n",
      "_________________________________________________________________\n",
      "dense_7 (Dense)              (None, 512)               262656    \n",
      "_________________________________________________________________\n",
      "activation_13 (Activation)   (None, 512)               0         \n",
      "_________________________________________________________________\n",
      "dense_8 (Dense)              (None, 2)                 1026      \n",
      "_________________________________________________________________\n",
      "activation_14 (Activation)   (None, 2)                 0         \n",
      "=================================================================\n",
      "Total params: 1,009,858\n",
      "Trainable params: 1,009,858\n",
      "Non-trainable params: 0\n",
      "_________________________________________________________________\n"
     ]
    }
   ],
   "source": [
    "model_22.summary()"
   ]
  },
  {
   "cell_type": "code",
   "execution_count": 39,
   "metadata": {
    "collapsed": true
   },
   "outputs": [],
   "source": [
    "model_22.compile(loss='hinge',  \n",
    "              optimizer='sgd',\n",
    "              metrics=['accuracy'])"
   ]
  },
  {
   "cell_type": "code",
   "execution_count": 40,
   "metadata": {},
   "outputs": [
    {
     "name": "stdout",
     "output_type": "stream",
     "text": [
      "Epoch 1/10\n",
      "410/410 [==============================] - 3s 8ms/step - loss: 0.6974 - acc: 0.7561\n",
      "Epoch 2/10\n",
      "410/410 [==============================] - 3s 8ms/step - loss: 0.6438 - acc: 0.7561\n",
      "Epoch 3/10\n",
      "410/410 [==============================] - 3s 8ms/step - loss: 0.6297 - acc: 0.7561\n",
      "Epoch 4/10\n",
      "410/410 [==============================] - 3s 8ms/step - loss: 0.6260 - acc: 0.7561\n",
      "Epoch 5/10\n",
      "410/410 [==============================] - 3s 8ms/step - loss: 0.6245 - acc: 0.7561\n",
      "Epoch 6/10\n",
      "410/410 [==============================] - 3s 8ms/step - loss: 0.6238 - acc: 0.7561\n",
      "Epoch 7/10\n",
      "410/410 [==============================] - 3s 8ms/step - loss: 0.6234 - acc: 0.7561\n",
      "Epoch 8/10\n",
      "410/410 [==============================] - 3s 8ms/step - loss: 0.6231 - acc: 0.7561\n",
      "Epoch 9/10\n",
      "410/410 [==============================] - 3s 8ms/step - loss: 0.6229 - acc: 0.7561\n",
      "Epoch 10/10\n",
      "410/410 [==============================] - 4s 9ms/step - loss: 0.6227 - acc: 0.7561\n"
     ]
    }
   ],
   "source": [
    "pre=model_22.fit(features,y_train2,epochs=10,shuffle=True,batch_size=10)"
   ]
  },
  {
   "cell_type": "code",
   "execution_count": 123,
   "metadata": {
    "collapsed": true
   },
   "outputs": [],
   "source": [
    "test_features=model_21.predict(x_test)"
   ]
  },
  {
   "cell_type": "code",
   "execution_count": 124,
   "metadata": {},
   "outputs": [
    {
     "name": "stdout",
     "output_type": "stream",
     "text": [
      "322/322 [==============================] - 0s 1ms/step\n",
      "[5.7250854190976215, 0.6428571428571429]\n"
     ]
    }
   ],
   "source": [
    "score=model_22.evaluate(test_features,y_test)\n",
    "print(score)"
   ]
  },
  {
   "cell_type": "code",
   "execution_count": 168,
   "metadata": {
    "collapsed": true
   },
   "outputs": [],
   "source": []
  },
  {
   "cell_type": "code",
   "execution_count": 23,
   "metadata": {},
   "outputs": [],
   "source": [
    "-"
   ]
  },
  {
   "cell_type": "code",
   "execution_count": null,
   "metadata": {
    "collapsed": true
   },
   "outputs": [],
   "source": []
  }
 ],
 "metadata": {
  "kernelspec": {
   "display_name": "Python 3",
   "language": "python",
   "name": "python3"
  },
  "language_info": {
   "codemirror_mode": {
    "name": "ipython",
    "version": 3
   },
   "file_extension": ".py",
   "mimetype": "text/x-python",
   "name": "python",
   "nbconvert_exporter": "python",
   "pygments_lexer": "ipython3",
   "version": "3.6.2"
  }
 },
 "nbformat": 4,
 "nbformat_minor": 2
}
